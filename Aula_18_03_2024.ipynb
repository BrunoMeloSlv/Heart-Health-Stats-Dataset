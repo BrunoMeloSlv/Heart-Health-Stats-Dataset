{
  "nbformat": 4,
  "nbformat_minor": 0,
  "metadata": {
    "colab": {
      "provenance": []
    },
    "kernelspec": {
      "name": "python3",
      "display_name": "Python 3"
    },
    "language_info": {
      "name": "python"
    }
  },
  "cells": [
    {
      "cell_type": "markdown",
      "source": [
        "# Conjunto de dados de estatísticas de saúde cardíaca\n"
      ],
      "metadata": {
        "id": "GN4xdQu8l1ka"
      }
    },
    {
      "cell_type": "markdown",
      "source": [
        "Esse conjunto de dados inclui informações demográficas, sinais vitais e indicadores do estado de saúde do coração dos indivíduos. Inclui características como idade, sexo, pressão arterial, níveis de colesterol e se o indivíduo sofreu um ataque cardíaco. O conjunto de dados é valioso para analisar tendências relacionadas à saúde cardiovascular e avaliar os fatores de risco associados a doenças cardíacas. Pesquisadores e profissionais de saúde podem utilizar esses dados para identificar padrões, desenvolver modelos preditivos e formular intervenções personalizadas para prevenção e manejo de doenças cardíacas.\n",
        "\n",
        "Link: https://www.kaggle.com/datasets/mahad049/heart-health-stats-dataset"
      ],
      "metadata": {
        "id": "4VoONbK0l4r8"
      }
    },
    {
      "cell_type": "code",
      "execution_count": null,
      "metadata": {
        "id": "XKl_xXxelVrg",
        "colab": {
          "base_uri": "https://localhost:8080/",
          "height": 206
        },
        "outputId": "6b91fafc-47d0-4d86-d10b-165bf9792463"
      },
      "outputs": [
        {
          "output_type": "execute_result",
          "data": {
            "text/plain": [
              "   ID             Name  Age  Gender  Height(cm)  Weight(kg)  \\\n",
              "0   1         John Doe   45    Male         175          80   \n",
              "1   2       Jane Smith   35  Female         160          65   \n",
              "2   3  Michael Johnson   55    Male         180          85   \n",
              "3   4      Sarah Brown   40  Female         165          70   \n",
              "4   5        David Lee   50    Male         170          75   \n",
              "\n",
              "  Blood Pressure(mmHg)  Cholesterol(mg/dL)  Glucose(mg/dL) Smoker  \\\n",
              "0               120/80                 200              90     No   \n",
              "1               110/70                 180              80     No   \n",
              "2               130/85                 220              95    Yes   \n",
              "3               115/75                 190              85     No   \n",
              "4               125/80                 210              92    Yes   \n",
              "\n",
              "   Exercise(hours/week)  Heart Attack  \n",
              "0                     3             0  \n",
              "1                     2             0  \n",
              "2                     4             1  \n",
              "3                     3             0  \n",
              "4                     2             1  "
            ],
            "text/html": [
              "\n",
              "  <div id=\"df-91aaaa7a-cb99-4b57-8aef-2b4261fec999\" class=\"colab-df-container\">\n",
              "    <div>\n",
              "<style scoped>\n",
              "    .dataframe tbody tr th:only-of-type {\n",
              "        vertical-align: middle;\n",
              "    }\n",
              "\n",
              "    .dataframe tbody tr th {\n",
              "        vertical-align: top;\n",
              "    }\n",
              "\n",
              "    .dataframe thead th {\n",
              "        text-align: right;\n",
              "    }\n",
              "</style>\n",
              "<table border=\"1\" class=\"dataframe\">\n",
              "  <thead>\n",
              "    <tr style=\"text-align: right;\">\n",
              "      <th></th>\n",
              "      <th>ID</th>\n",
              "      <th>Name</th>\n",
              "      <th>Age</th>\n",
              "      <th>Gender</th>\n",
              "      <th>Height(cm)</th>\n",
              "      <th>Weight(kg)</th>\n",
              "      <th>Blood Pressure(mmHg)</th>\n",
              "      <th>Cholesterol(mg/dL)</th>\n",
              "      <th>Glucose(mg/dL)</th>\n",
              "      <th>Smoker</th>\n",
              "      <th>Exercise(hours/week)</th>\n",
              "      <th>Heart Attack</th>\n",
              "    </tr>\n",
              "  </thead>\n",
              "  <tbody>\n",
              "    <tr>\n",
              "      <th>0</th>\n",
              "      <td>1</td>\n",
              "      <td>John Doe</td>\n",
              "      <td>45</td>\n",
              "      <td>Male</td>\n",
              "      <td>175</td>\n",
              "      <td>80</td>\n",
              "      <td>120/80</td>\n",
              "      <td>200</td>\n",
              "      <td>90</td>\n",
              "      <td>No</td>\n",
              "      <td>3</td>\n",
              "      <td>0</td>\n",
              "    </tr>\n",
              "    <tr>\n",
              "      <th>1</th>\n",
              "      <td>2</td>\n",
              "      <td>Jane Smith</td>\n",
              "      <td>35</td>\n",
              "      <td>Female</td>\n",
              "      <td>160</td>\n",
              "      <td>65</td>\n",
              "      <td>110/70</td>\n",
              "      <td>180</td>\n",
              "      <td>80</td>\n",
              "      <td>No</td>\n",
              "      <td>2</td>\n",
              "      <td>0</td>\n",
              "    </tr>\n",
              "    <tr>\n",
              "      <th>2</th>\n",
              "      <td>3</td>\n",
              "      <td>Michael Johnson</td>\n",
              "      <td>55</td>\n",
              "      <td>Male</td>\n",
              "      <td>180</td>\n",
              "      <td>85</td>\n",
              "      <td>130/85</td>\n",
              "      <td>220</td>\n",
              "      <td>95</td>\n",
              "      <td>Yes</td>\n",
              "      <td>4</td>\n",
              "      <td>1</td>\n",
              "    </tr>\n",
              "    <tr>\n",
              "      <th>3</th>\n",
              "      <td>4</td>\n",
              "      <td>Sarah Brown</td>\n",
              "      <td>40</td>\n",
              "      <td>Female</td>\n",
              "      <td>165</td>\n",
              "      <td>70</td>\n",
              "      <td>115/75</td>\n",
              "      <td>190</td>\n",
              "      <td>85</td>\n",
              "      <td>No</td>\n",
              "      <td>3</td>\n",
              "      <td>0</td>\n",
              "    </tr>\n",
              "    <tr>\n",
              "      <th>4</th>\n",
              "      <td>5</td>\n",
              "      <td>David Lee</td>\n",
              "      <td>50</td>\n",
              "      <td>Male</td>\n",
              "      <td>170</td>\n",
              "      <td>75</td>\n",
              "      <td>125/80</td>\n",
              "      <td>210</td>\n",
              "      <td>92</td>\n",
              "      <td>Yes</td>\n",
              "      <td>2</td>\n",
              "      <td>1</td>\n",
              "    </tr>\n",
              "  </tbody>\n",
              "</table>\n",
              "</div>\n",
              "    <div class=\"colab-df-buttons\">\n",
              "\n",
              "  <div class=\"colab-df-container\">\n",
              "    <button class=\"colab-df-convert\" onclick=\"convertToInteractive('df-91aaaa7a-cb99-4b57-8aef-2b4261fec999')\"\n",
              "            title=\"Convert this dataframe to an interactive table.\"\n",
              "            style=\"display:none;\">\n",
              "\n",
              "  <svg xmlns=\"http://www.w3.org/2000/svg\" height=\"24px\" viewBox=\"0 -960 960 960\">\n",
              "    <path d=\"M120-120v-720h720v720H120Zm60-500h600v-160H180v160Zm220 220h160v-160H400v160Zm0 220h160v-160H400v160ZM180-400h160v-160H180v160Zm440 0h160v-160H620v160ZM180-180h160v-160H180v160Zm440 0h160v-160H620v160Z\"/>\n",
              "  </svg>\n",
              "    </button>\n",
              "\n",
              "  <style>\n",
              "    .colab-df-container {\n",
              "      display:flex;\n",
              "      gap: 12px;\n",
              "    }\n",
              "\n",
              "    .colab-df-convert {\n",
              "      background-color: #E8F0FE;\n",
              "      border: none;\n",
              "      border-radius: 50%;\n",
              "      cursor: pointer;\n",
              "      display: none;\n",
              "      fill: #1967D2;\n",
              "      height: 32px;\n",
              "      padding: 0 0 0 0;\n",
              "      width: 32px;\n",
              "    }\n",
              "\n",
              "    .colab-df-convert:hover {\n",
              "      background-color: #E2EBFA;\n",
              "      box-shadow: 0px 1px 2px rgba(60, 64, 67, 0.3), 0px 1px 3px 1px rgba(60, 64, 67, 0.15);\n",
              "      fill: #174EA6;\n",
              "    }\n",
              "\n",
              "    .colab-df-buttons div {\n",
              "      margin-bottom: 4px;\n",
              "    }\n",
              "\n",
              "    [theme=dark] .colab-df-convert {\n",
              "      background-color: #3B4455;\n",
              "      fill: #D2E3FC;\n",
              "    }\n",
              "\n",
              "    [theme=dark] .colab-df-convert:hover {\n",
              "      background-color: #434B5C;\n",
              "      box-shadow: 0px 1px 3px 1px rgba(0, 0, 0, 0.15);\n",
              "      filter: drop-shadow(0px 1px 2px rgba(0, 0, 0, 0.3));\n",
              "      fill: #FFFFFF;\n",
              "    }\n",
              "  </style>\n",
              "\n",
              "    <script>\n",
              "      const buttonEl =\n",
              "        document.querySelector('#df-91aaaa7a-cb99-4b57-8aef-2b4261fec999 button.colab-df-convert');\n",
              "      buttonEl.style.display =\n",
              "        google.colab.kernel.accessAllowed ? 'block' : 'none';\n",
              "\n",
              "      async function convertToInteractive(key) {\n",
              "        const element = document.querySelector('#df-91aaaa7a-cb99-4b57-8aef-2b4261fec999');\n",
              "        const dataTable =\n",
              "          await google.colab.kernel.invokeFunction('convertToInteractive',\n",
              "                                                    [key], {});\n",
              "        if (!dataTable) return;\n",
              "\n",
              "        const docLinkHtml = 'Like what you see? Visit the ' +\n",
              "          '<a target=\"_blank\" href=https://colab.research.google.com/notebooks/data_table.ipynb>data table notebook</a>'\n",
              "          + ' to learn more about interactive tables.';\n",
              "        element.innerHTML = '';\n",
              "        dataTable['output_type'] = 'display_data';\n",
              "        await google.colab.output.renderOutput(dataTable, element);\n",
              "        const docLink = document.createElement('div');\n",
              "        docLink.innerHTML = docLinkHtml;\n",
              "        element.appendChild(docLink);\n",
              "      }\n",
              "    </script>\n",
              "  </div>\n",
              "\n",
              "\n",
              "<div id=\"df-2779522c-e94b-4361-a8c8-90df30fa4664\">\n",
              "  <button class=\"colab-df-quickchart\" onclick=\"quickchart('df-2779522c-e94b-4361-a8c8-90df30fa4664')\"\n",
              "            title=\"Suggest charts\"\n",
              "            style=\"display:none;\">\n",
              "\n",
              "<svg xmlns=\"http://www.w3.org/2000/svg\" height=\"24px\"viewBox=\"0 0 24 24\"\n",
              "     width=\"24px\">\n",
              "    <g>\n",
              "        <path d=\"M19 3H5c-1.1 0-2 .9-2 2v14c0 1.1.9 2 2 2h14c1.1 0 2-.9 2-2V5c0-1.1-.9-2-2-2zM9 17H7v-7h2v7zm4 0h-2V7h2v10zm4 0h-2v-4h2v4z\"/>\n",
              "    </g>\n",
              "</svg>\n",
              "  </button>\n",
              "\n",
              "<style>\n",
              "  .colab-df-quickchart {\n",
              "      --bg-color: #E8F0FE;\n",
              "      --fill-color: #1967D2;\n",
              "      --hover-bg-color: #E2EBFA;\n",
              "      --hover-fill-color: #174EA6;\n",
              "      --disabled-fill-color: #AAA;\n",
              "      --disabled-bg-color: #DDD;\n",
              "  }\n",
              "\n",
              "  [theme=dark] .colab-df-quickchart {\n",
              "      --bg-color: #3B4455;\n",
              "      --fill-color: #D2E3FC;\n",
              "      --hover-bg-color: #434B5C;\n",
              "      --hover-fill-color: #FFFFFF;\n",
              "      --disabled-bg-color: #3B4455;\n",
              "      --disabled-fill-color: #666;\n",
              "  }\n",
              "\n",
              "  .colab-df-quickchart {\n",
              "    background-color: var(--bg-color);\n",
              "    border: none;\n",
              "    border-radius: 50%;\n",
              "    cursor: pointer;\n",
              "    display: none;\n",
              "    fill: var(--fill-color);\n",
              "    height: 32px;\n",
              "    padding: 0;\n",
              "    width: 32px;\n",
              "  }\n",
              "\n",
              "  .colab-df-quickchart:hover {\n",
              "    background-color: var(--hover-bg-color);\n",
              "    box-shadow: 0 1px 2px rgba(60, 64, 67, 0.3), 0 1px 3px 1px rgba(60, 64, 67, 0.15);\n",
              "    fill: var(--button-hover-fill-color);\n",
              "  }\n",
              "\n",
              "  .colab-df-quickchart-complete:disabled,\n",
              "  .colab-df-quickchart-complete:disabled:hover {\n",
              "    background-color: var(--disabled-bg-color);\n",
              "    fill: var(--disabled-fill-color);\n",
              "    box-shadow: none;\n",
              "  }\n",
              "\n",
              "  .colab-df-spinner {\n",
              "    border: 2px solid var(--fill-color);\n",
              "    border-color: transparent;\n",
              "    border-bottom-color: var(--fill-color);\n",
              "    animation:\n",
              "      spin 1s steps(1) infinite;\n",
              "  }\n",
              "\n",
              "  @keyframes spin {\n",
              "    0% {\n",
              "      border-color: transparent;\n",
              "      border-bottom-color: var(--fill-color);\n",
              "      border-left-color: var(--fill-color);\n",
              "    }\n",
              "    20% {\n",
              "      border-color: transparent;\n",
              "      border-left-color: var(--fill-color);\n",
              "      border-top-color: var(--fill-color);\n",
              "    }\n",
              "    30% {\n",
              "      border-color: transparent;\n",
              "      border-left-color: var(--fill-color);\n",
              "      border-top-color: var(--fill-color);\n",
              "      border-right-color: var(--fill-color);\n",
              "    }\n",
              "    40% {\n",
              "      border-color: transparent;\n",
              "      border-right-color: var(--fill-color);\n",
              "      border-top-color: var(--fill-color);\n",
              "    }\n",
              "    60% {\n",
              "      border-color: transparent;\n",
              "      border-right-color: var(--fill-color);\n",
              "    }\n",
              "    80% {\n",
              "      border-color: transparent;\n",
              "      border-right-color: var(--fill-color);\n",
              "      border-bottom-color: var(--fill-color);\n",
              "    }\n",
              "    90% {\n",
              "      border-color: transparent;\n",
              "      border-bottom-color: var(--fill-color);\n",
              "    }\n",
              "  }\n",
              "</style>\n",
              "\n",
              "  <script>\n",
              "    async function quickchart(key) {\n",
              "      const quickchartButtonEl =\n",
              "        document.querySelector('#' + key + ' button');\n",
              "      quickchartButtonEl.disabled = true;  // To prevent multiple clicks.\n",
              "      quickchartButtonEl.classList.add('colab-df-spinner');\n",
              "      try {\n",
              "        const charts = await google.colab.kernel.invokeFunction(\n",
              "            'suggestCharts', [key], {});\n",
              "      } catch (error) {\n",
              "        console.error('Error during call to suggestCharts:', error);\n",
              "      }\n",
              "      quickchartButtonEl.classList.remove('colab-df-spinner');\n",
              "      quickchartButtonEl.classList.add('colab-df-quickchart-complete');\n",
              "    }\n",
              "    (() => {\n",
              "      let quickchartButtonEl =\n",
              "        document.querySelector('#df-2779522c-e94b-4361-a8c8-90df30fa4664 button');\n",
              "      quickchartButtonEl.style.display =\n",
              "        google.colab.kernel.accessAllowed ? 'block' : 'none';\n",
              "    })();\n",
              "  </script>\n",
              "</div>\n",
              "\n",
              "    </div>\n",
              "  </div>\n"
            ],
            "application/vnd.google.colaboratory.intrinsic+json": {
              "type": "dataframe",
              "variable_name": "dados",
              "summary": "{\n  \"name\": \"dados\",\n  \"rows\": 724,\n  \"fields\": [\n    {\n      \"column\": \"ID\",\n      \"properties\": {\n        \"dtype\": \"number\",\n        \"std\": 207,\n        \"min\": 1,\n        \"max\": 714,\n        \"num_unique_values\": 714,\n        \"samples\": [\n          121,\n          330,\n          40\n        ],\n        \"semantic_type\": \"\",\n        \"description\": \"\"\n      }\n    },\n    {\n      \"column\": \"Name\",\n      \"properties\": {\n        \"dtype\": \"category\",\n        \"num_unique_values\": 121,\n        \"samples\": [\n          \"Justin Martinez\",\n          \"Lisa Garcia\",\n          \"David Lee\"\n        ],\n        \"semantic_type\": \"\",\n        \"description\": \"\"\n      }\n    },\n    {\n      \"column\": \"Age\",\n      \"properties\": {\n        \"dtype\": \"number\",\n        \"std\": 8,\n        \"min\": 30,\n        \"max\": 60,\n        \"num_unique_values\": 31,\n        \"samples\": [\n          43,\n          33,\n          41\n        ],\n        \"semantic_type\": \"\",\n        \"description\": \"\"\n      }\n    },\n    {\n      \"column\": \"Gender\",\n      \"properties\": {\n        \"dtype\": \"category\",\n        \"num_unique_values\": 2,\n        \"samples\": [\n          \"Female\",\n          \"Male\"\n        ],\n        \"semantic_type\": \"\",\n        \"description\": \"\"\n      }\n    },\n    {\n      \"column\": \"Height(cm)\",\n      \"properties\": {\n        \"dtype\": \"number\",\n        \"std\": 6,\n        \"min\": 155,\n        \"max\": 183,\n        \"num_unique_values\": 29,\n        \"samples\": [\n          172,\n          164\n        ],\n        \"semantic_type\": \"\",\n        \"description\": \"\"\n      }\n    },\n    {\n      \"column\": \"Weight(kg)\",\n      \"properties\": {\n        \"dtype\": \"number\",\n        \"std\": 6,\n        \"min\": 60,\n        \"max\": 89,\n        \"num_unique_values\": 29,\n        \"samples\": [\n          83,\n          87\n        ],\n        \"semantic_type\": \"\",\n        \"description\": \"\"\n      }\n    },\n    {\n      \"column\": \"Blood Pressure(mmHg)\",\n      \"properties\": {\n        \"dtype\": \"category\",\n        \"num_unique_values\": 40,\n        \"samples\": [\n          \"112/72\",\n          \"117/73\"\n        ],\n        \"semantic_type\": \"\",\n        \"description\": \"\"\n      }\n    },\n    {\n      \"column\": \"Cholesterol(mg/dL)\",\n      \"properties\": {\n        \"dtype\": \"number\",\n        \"std\": 11,\n        \"min\": 170,\n        \"max\": 230,\n        \"num_unique_values\": 13,\n        \"samples\": [\n          225,\n          215\n        ],\n        \"semantic_type\": \"\",\n        \"description\": \"\"\n      }\n    },\n    {\n      \"column\": \"Glucose(mg/dL)\",\n      \"properties\": {\n        \"dtype\": \"number\",\n        \"std\": 4,\n        \"min\": 75,\n        \"max\": 100,\n        \"num_unique_values\": 14,\n        \"samples\": [\n          96,\n          97\n        ],\n        \"semantic_type\": \"\",\n        \"description\": \"\"\n      }\n    },\n    {\n      \"column\": \"Smoker\",\n      \"properties\": {\n        \"dtype\": \"category\",\n        \"num_unique_values\": 2,\n        \"samples\": [\n          \"Yes\",\n          \"No\"\n        ],\n        \"semantic_type\": \"\",\n        \"description\": \"\"\n      }\n    },\n    {\n      \"column\": \"Exercise(hours/week)\",\n      \"properties\": {\n        \"dtype\": \"number\",\n        \"std\": 0,\n        \"min\": 1,\n        \"max\": 4,\n        \"num_unique_values\": 4,\n        \"samples\": [\n          2,\n          1\n        ],\n        \"semantic_type\": \"\",\n        \"description\": \"\"\n      }\n    },\n    {\n      \"column\": \"Heart Attack\",\n      \"properties\": {\n        \"dtype\": \"number\",\n        \"std\": 0,\n        \"min\": 0,\n        \"max\": 1,\n        \"num_unique_values\": 2,\n        \"samples\": [\n          1,\n          0\n        ],\n        \"semantic_type\": \"\",\n        \"description\": \"\"\n      }\n    }\n  ]\n}"
            }
          },
          "metadata": {},
          "execution_count": 1
        }
      ],
      "source": [
        "import pandas as pd\n",
        "\n",
        "dados = pd.read_csv('/content/Heart_health.csv', sep = ',')\n",
        "dados.head()"
      ]
    },
    {
      "cell_type": "code",
      "source": [
        "dados.drop(columns = ['ID','Name'], inplace = True)\n",
        "dados.head()"
      ],
      "metadata": {
        "id": "kwEtqvLYmqos"
      },
      "execution_count": null,
      "outputs": []
    },
    {
      "cell_type": "code",
      "source": [
        "# Vamos criar a PAM\n",
        "\n",
        "dados['PAS'],dados['PAD'] = dados['Blood Pressure(mmHg)'].str.split('/',1).str\n",
        "dados"
      ],
      "metadata": {
        "id": "s9a1cxMbmjVw"
      },
      "execution_count": null,
      "outputs": []
    },
    {
      "cell_type": "code",
      "source": [
        "dados.drop('Blood Pressure(mmHg)', axis=1, inplace=True)\n",
        "dados.head()"
      ],
      "metadata": {
        "id": "2hk20TZZnteE"
      },
      "execution_count": null,
      "outputs": []
    },
    {
      "cell_type": "code",
      "source": [
        "dados.info()"
      ],
      "metadata": {
        "id": "J7m4IzL2n93A"
      },
      "execution_count": null,
      "outputs": []
    },
    {
      "cell_type": "code",
      "source": [
        "dados = dados.astype({'PAS':'int64', 'PAD':'int64'})"
      ],
      "metadata": {
        "id": "wfgFkTozoGwT"
      },
      "execution_count": null,
      "outputs": []
    },
    {
      "cell_type": "code",
      "source": [
        "dados.info()"
      ],
      "metadata": {
        "id": "4V2_VwTEoKaa"
      },
      "execution_count": null,
      "outputs": []
    },
    {
      "cell_type": "code",
      "source": [
        "dados['PAM'] = (dados['PAS'] + 2 * dados['PAD'])/3\n",
        "dados"
      ],
      "metadata": {
        "id": "ebruxMjyoMgv"
      },
      "execution_count": null,
      "outputs": []
    },
    {
      "cell_type": "code",
      "source": [
        "dados.drop(columns = ['PAS','PAD'], inplace = True)\n",
        "dados"
      ],
      "metadata": {
        "id": "iU26w8rNoQ8C"
      },
      "execution_count": null,
      "outputs": []
    },
    {
      "cell_type": "code",
      "source": [
        "dados = pd.get_dummies(data= dados, columns=['Gender','Smoker','Heart Attack'], drop_first = True)\n",
        "dados.head()"
      ],
      "metadata": {
        "id": "41CXuym-oWMd"
      },
      "execution_count": null,
      "outputs": []
    },
    {
      "cell_type": "code",
      "source": [
        "# Renomeando as colunas usando um dicionário\n",
        "dados = dados.rename(columns={'Age': 'Idade', 'Height(cm)': 'Altura',\n",
        "                        'Weight(kg)' : 'Peso',\n",
        "                        'Cholesterol(mg/dL)' : 'Colesterol',\n",
        "                        'Glucose(mg/dL)':'Glicose',\n",
        "                        'Exercise(hours/week)': \"Exercicio\",\n",
        "                        'Gender_Male':'Genero',\n",
        "                        'Smoker_Yes':'Fuma',\n",
        "                        'Heart Attack_1':'Target'})\n",
        "\n",
        "# Exibindo o DataFrame com os nomes das colunas atualizados\n",
        "dados.head()\n"
      ],
      "metadata": {
        "id": "iAVsdJCRogP_"
      },
      "execution_count": null,
      "outputs": []
    },
    {
      "cell_type": "code",
      "source": [
        "import seaborn as sns # biblioteca de visualização de informações estatísticas\n",
        "import matplotlib.pyplot as plt # biblioteca de visualização de dados\n",
        "import statsmodels.api as sm # biblioteca de modelagem estatística\n",
        "import numpy as np # biblioteca para operações matemáticas multidimensionais\n",
        "from scipy import stats # estatística chi2\n",
        "from statsmodels.iolib.summary2 import summary_col # comparação entre modelos\n",
        "import plotly.graph_objs as go # gráfico 3D\n",
        "import statsmodels.formula.api as smf # estimação do modelo logístico binário\n",
        "\n",
        "import warnings"
      ],
      "metadata": {
        "id": "seGaiHlmquvm"
      },
      "execution_count": null,
      "outputs": []
    },
    {
      "cell_type": "markdown",
      "source": [],
      "metadata": {
        "id": "tFjTVA_MCLv2"
      }
    },
    {
      "cell_type": "code",
      "source": [
        "# In[ ]: Plotando a curva sigmóide teórica de ocorrência de um evento para um\n",
        "#range do logito z entre -5 e +5\n",
        "\n",
        "from math import exp\n",
        "\n",
        "#Estabelecendo uma função para a probabilidade de ocorrência de um evento\n",
        "def prob(z):\n",
        "    return 1 / (1 + exp(-z))\n",
        "\n",
        "logitos = []\n",
        "probs = []\n",
        "\n",
        "for i in np.arange(-5,6):\n",
        "    logitos.append(i)\n",
        "    probs.append(prob(i))\n",
        "\n",
        "df = pd.DataFrame({'logito':logitos,'probs':probs})\n",
        "\n",
        "plt.figure(figsize=(10,10))\n",
        "plt.plot(df.logito, df.probs, color='darkorchid')\n",
        "plt.scatter(df.logito, df.probs, color = 'darkorchid', s=100)\n",
        "plt.axhline(y = df.probs.mean(), color = 'grey', linestyle = ':')\n",
        "plt.xlabel(\"Logito Z\", fontsize=20)\n",
        "plt.ylabel(\"Probabilidade\", fontsize=20)\n",
        "plt.show()"
      ],
      "metadata": {
        "id": "_bAgNiq2q1Ti"
      },
      "execution_count": null,
      "outputs": []
    },
    {
      "cell_type": "code",
      "source": [
        "lista_colunas = list(dados.drop(columns=['Target']).columns)\n",
        "\n",
        "formula_dummies_modelo = ' + '.join(lista_colunas)\n",
        "\n",
        "formula_dummies_modelo = \"Target ~ \" + formula_dummies_modelo\n",
        "\n",
        "print(\"Fórmula utilizada: \",formula_dummies_modelo)\n",
        "\n",
        "#Modelo propriamente dito\n",
        "modelo = sm.Logit.from_formula(formula_dummies_modelo,\n",
        "                                               dados).fit()\n",
        "\n",
        "#Parâmetros do modelo\n",
        "modelo.summary()"
      ],
      "metadata": {
        "id": "_oCqUy02q3kb"
      },
      "execution_count": null,
      "outputs": []
    },
    {
      "cell_type": "code",
      "source": [
        "from sklearn.metrics import confusion_matrix, accuracy_score,\\\n",
        "    ConfusionMatrixDisplay, recall_score\n",
        "\n",
        "def matriz_confusao(predicts, observado, cutoff):\n",
        "\n",
        "    values = predicts.values\n",
        "\n",
        "    predicao_binaria = []\n",
        "\n",
        "    for item in values:\n",
        "        if item < cutoff:\n",
        "            predicao_binaria.append(0)\n",
        "        else:\n",
        "            predicao_binaria.append(1)\n",
        "\n",
        "    cm = confusion_matrix(predicao_binaria, observado)\n",
        "    disp = ConfusionMatrixDisplay(confusion_matrix=cm)\n",
        "    disp.plot()\n",
        "    plt.xlabel('True')\n",
        "    plt.ylabel('Classified')\n",
        "    plt.gca().invert_xaxis()\n",
        "    plt.gca().invert_yaxis()\n",
        "    plt.show()\n",
        "\n",
        "    sensitividade = recall_score(observado, predicao_binaria, pos_label=1)\n",
        "    especificidade = recall_score(observado, predicao_binaria, pos_label=0)\n",
        "    acuracia = accuracy_score(observado, predicao_binaria)\n",
        "\n",
        "    #Visualizando os principais indicadores desta matriz de confusão\n",
        "    indicadores = pd.DataFrame({'Sensitividade':[sensitividade],\n",
        "                                'Especificidade':[especificidade],\n",
        "                                'Acurácia':[acuracia]})\n",
        "    return indicadores"
      ],
      "metadata": {
        "id": "VPFcuebGq91y"
      },
      "execution_count": null,
      "outputs": []
    },
    {
      "cell_type": "code",
      "source": [
        "# Adicionando os valores previstos de probabilidade na base de dados\n",
        "dados['phat'] = modelo.predict()\n",
        "\n",
        "#Matriz de confusão para cutoff = 0.5\n",
        "matriz_confusao(observado=dados['Target'],\n",
        "                predicts=dados['phat'],\n",
        "                cutoff=0.50)"
      ],
      "metadata": {
        "id": "KGojjBE3rBEF"
      },
      "execution_count": null,
      "outputs": []
    },
    {
      "cell_type": "code",
      "source": [
        "def espec_sens(observado,predicts):\n",
        "\n",
        "    # adicionar objeto com os valores dos predicts\n",
        "    values = predicts.values\n",
        "\n",
        "    # range dos cutoffs a serem analisados em steps de 0.01\n",
        "    cutoffs = np.arange(0,1.01,0.01)\n",
        "\n",
        "    # Listas que receberão os resultados de especificidade e sensitividade\n",
        "    lista_sensitividade = []\n",
        "    lista_especificidade = []\n",
        "\n",
        "    for cutoff in cutoffs:\n",
        "\n",
        "        predicao_binaria = []\n",
        "\n",
        "        # Definindo resultado binário de acordo com o predict\n",
        "        for item in values:\n",
        "            if item >= cutoff:\n",
        "                predicao_binaria.append(1)\n",
        "            else:\n",
        "                predicao_binaria.append(0)\n",
        "\n",
        "        # Cálculo da sensitividade e especificidade no cutoff\n",
        "        sensitividade = recall_score(observado, predicao_binaria, pos_label=1)\n",
        "        especificidadee = recall_score(observado, predicao_binaria, pos_label=0)\n",
        "\n",
        "        # Adicionar valores nas listas\n",
        "        lista_sensitividade.append(sensitividade)\n",
        "        lista_especificidade.append(especificidadee)\n",
        "\n",
        "    # Criar dataframe com os resultados nos seus respectivos cutoffs\n",
        "    resultado = pd.DataFrame({'cutoffs':cutoffs,'sensitividade':lista_sensitividade,'especificidade':lista_especificidade})\n",
        "    return resultado"
      ],
      "metadata": {
        "id": "EF3Frhb3rI5a"
      },
      "execution_count": null,
      "outputs": []
    },
    {
      "cell_type": "code",
      "source": [
        "dados_plotagem = espec_sens(observado = dados['Target'],\n",
        "                            predicts = dados['phat'])\n",
        "dados_plotagem"
      ],
      "metadata": {
        "id": "RjmY99UZrKVg"
      },
      "execution_count": null,
      "outputs": []
    },
    {
      "cell_type": "code",
      "source": [
        "plt.figure(figsize=(10,10))\n",
        "plt.plot(dados_plotagem.cutoffs,dados_plotagem.sensitividade, '-o',\n",
        "         color='indigo')\n",
        "plt.plot(dados_plotagem.cutoffs,dados_plotagem.especificidade, '-o',\n",
        "         color='limegreen')\n",
        "plt.legend(['Sensitividade', 'Especificidade'], fontsize=17)\n",
        "plt.xlabel('Cuttoff', fontsize=14)\n",
        "plt.ylabel('Sensitividade / Especificidade', fontsize=14)\n",
        "plt.show()"
      ],
      "metadata": {
        "id": "HSoTopi4rP2J"
      },
      "execution_count": null,
      "outputs": []
    },
    {
      "cell_type": "code",
      "source": [
        "from sklearn.metrics import roc_curve, auc\n",
        "\n",
        "#Função 'roc_curve' do pacote 'metrics' do sklearn\n",
        "\n",
        "fpr, tpr, thresholds =roc_curve(dados['Target'],\n",
        "                                dados['phat'])\n",
        "roc_auc = auc(fpr, tpr)\n",
        "\n",
        "#Cálculo do coeficiente de GINI\n",
        "gini = (roc_auc - 0.5)/(0.5)\n",
        "\n",
        "#Plotando a curva ROC\n",
        "plt.figure(figsize=(10,10))\n",
        "plt.plot(fpr,tpr, '-o', color='red')\n",
        "plt.plot(fpr,fpr, ':', color='gray')\n",
        "plt.title('Área abaixo da curva: %g' % round(roc_auc,4) +\n",
        "          ' | Coeficiente de GINI: %g' % round(gini,4), fontsize=17)\n",
        "plt.xlabel('1 - Especificidade', fontsize=15)\n",
        "plt.ylabel('Sensitividade', fontsize=15)\n",
        "plt.show()"
      ],
      "metadata": {
        "id": "6P83FtOKrVl6"
      },
      "execution_count": null,
      "outputs": []
    },
    {
      "cell_type": "code",
      "source": [
        "!pip install pandas-profiling"
      ],
      "metadata": {
        "id": "CDFKfPvPtu42"
      },
      "execution_count": null,
      "outputs": []
    },
    {
      "cell_type": "code",
      "source": [
        "from ydata_profiling import ProfileReport ## https://docs.profiling.ydata.ai/latest/\n",
        "\n",
        "ProfileReport(dados)"
      ],
      "metadata": {
        "id": "9PwzosNwtnNw"
      },
      "execution_count": null,
      "outputs": []
    },
    {
      "cell_type": "code",
      "source": [
        "!pip install factor_analyzer"
      ],
      "metadata": {
        "id": "drwNq4N1vOwW"
      },
      "execution_count": null,
      "outputs": []
    },
    {
      "cell_type": "code",
      "source": [
        "!pip install pingouin"
      ],
      "metadata": {
        "id": "EQTPFkCKvbk_"
      },
      "execution_count": null,
      "outputs": []
    },
    {
      "cell_type": "code",
      "source": [
        "from factor_analyzer import FactorAnalyzer\n",
        "from factor_analyzer.factor_analyzer import calculate_bartlett_sphericity\n",
        "from factor_analyzer.factor_analyzer import calculate_kmo\n",
        "import pingouin as pg\n",
        "import seaborn as sns\n",
        "import numpy as np\n",
        "import matplotlib.pyplot as plt"
      ],
      "metadata": {
        "id": "PxT3FmQgvLgW"
      },
      "execution_count": null,
      "outputs": []
    },
    {
      "cell_type": "code",
      "source": [
        "dados.drop('phat', axis =1, inplace=true)\n"
      ],
      "metadata": {
        "id": "29VbvuClv6d0"
      },
      "execution_count": null,
      "outputs": []
    },
    {
      "cell_type": "code",
      "source": [
        "#%% Teste de Bartlett\n",
        "\n",
        "bartlett, p_value = calculate_bartlett_sphericity(dados)\n",
        "\n",
        "print(f'Bartlett statistic: {bartlett}')\n",
        "\n",
        "print(f'p-value : {p_value}')"
      ],
      "metadata": {
        "id": "kYxuxlWUvr9T"
      },
      "execution_count": null,
      "outputs": []
    },
    {
      "cell_type": "code",
      "source": [
        "#%% Estatística KMO\n",
        "\n",
        "kmo_all, kmo_model = calculate_kmo(dados)\n",
        "\n",
        "print(f'kmo_model : {kmo_model}')"
      ],
      "metadata": {
        "id": "Br-eSV7Kvwvn"
      },
      "execution_count": null,
      "outputs": []
    },
    {
      "cell_type": "code",
      "source": [
        "fa = FactorAnalyzer()\n",
        "fa.fit(dados)"
      ],
      "metadata": {
        "id": "0tPSAbwpv0L-"
      },
      "execution_count": null,
      "outputs": []
    },
    {
      "cell_type": "code",
      "source": [
        "\n",
        "ev, v = fa.get_eigenvalues()\n",
        "\n",
        "print(ev)"
      ],
      "metadata": {
        "id": "ntRbuIwRv356"
      },
      "execution_count": null,
      "outputs": []
    },
    {
      "cell_type": "code",
      "source": [
        "fa.set_params(n_factors = 2, method = 'principal', rotation = None)\n",
        "fa.fit(dados)\n"
      ],
      "metadata": {
        "id": "Q8shlhNHweQb"
      },
      "execution_count": null,
      "outputs": []
    },
    {
      "cell_type": "code",
      "source": [
        "#%% Eigenvalues, variâncias e variâncias acumulada\n",
        "\n",
        "eigen_fatores = fa.get_factor_variance()\n",
        "eigen_fatores\n",
        "\n",
        "tabela_eigen = pd.DataFrame(eigen_fatores)\n",
        "tabela_eigen.columns = [f\"Fator {i+1}\" for i, v in enumerate(tabela_eigen.columns)]\n",
        "tabela_eigen.index = ['Autovalor','Variância', 'Variância Acumulada']\n",
        "tabela_eigen = tabela_eigen.T\n",
        "\n",
        "print(tabela_eigen)"
      ],
      "metadata": {
        "id": "UXv7maMPwkQu"
      },
      "execution_count": null,
      "outputs": []
    },
    {
      "cell_type": "code",
      "source": [
        "cargas_fatores = fa.loadings_\n",
        "\n",
        "tabela_cargas = pd.DataFrame(cargas_fatores)\n",
        "tabela_cargas.columns = [f\"Fator {i+1}\" for i, v in enumerate(tabela_cargas.columns)]\n",
        "tabela_cargas.index = dados.columns\n",
        "tabela_cargas\n",
        "\n",
        "print(tabela_cargas)"
      ],
      "metadata": {
        "id": "LYc1XEFxwljz"
      },
      "execution_count": null,
      "outputs": []
    },
    {
      "cell_type": "code",
      "source": [
        "#%% Determinando as comunalidades\n",
        "\n",
        "comunalidades = fa.get_communalities()\n",
        "\n",
        "tabela_comunalidades = pd.DataFrame(comunalidades)\n",
        "tabela_comunalidades.columns = ['Comunalidades']\n",
        "tabela_comunalidades.index = dados.columns\n",
        "tabela_comunalidades\n",
        "\n",
        "print(tabela_comunalidades)"
      ],
      "metadata": {
        "id": "srJl1NbZwqFM"
      },
      "execution_count": null,
      "outputs": []
    },
    {
      "cell_type": "code",
      "source": [
        "#%% Resultados dos fatores para as observações do dataset (predict)\n",
        "\n",
        "predict_fatores= pd.DataFrame(fa.transform(dados))\n",
        "predict_fatores.columns =  [f\"Fator {i+1}\" for i, v in enumerate(predict_fatores.columns)]\n",
        "\n",
        "print(predict_fatores)\n",
        "\n",
        "# Adicionando ao dataset\n",
        "\n",
        "dados = pd.concat([dados.reset_index(drop=True), predict_fatores], axis=1)\n",
        "\n",
        "dados"
      ],
      "metadata": {
        "id": "Ow_7plyZwxIg"
      },
      "execution_count": null,
      "outputs": []
    },
    {
      "cell_type": "code",
      "source": [
        "\n",
        "corr_fator = pg.rcorr(dados[['Fator 1','Fator 2']], method = 'pearson', upper = 'pval', decimals = 4, pval_stars = {0.01: '***', 0.05: '**', 0.10: '*'})\n",
        "print(corr_fator)"
      ],
      "metadata": {
        "id": "rriBpeBqxF2Y"
      },
      "execution_count": null,
      "outputs": []
    },
    {
      "cell_type": "code",
      "source": [
        "# Renomeando as colunas usando um dicionário\n",
        "dados = dados.rename(columns={'Fator 1': 'Fator1', 'Fator 2': 'Fator2'})\n",
        "\n",
        "# Exibindo o DataFrame com os nomes das colunas atualizados\n",
        "dados.head()"
      ],
      "metadata": {
        "id": "oD37z_xKxZjh"
      },
      "execution_count": null,
      "outputs": []
    },
    {
      "cell_type": "code",
      "source": [
        "colunas = ['Fator1','Fator2','Target']\n",
        "dados2 = dados[colunas].copy()\n",
        "dados2"
      ],
      "metadata": {
        "id": "If4xJr-kxKDS"
      },
      "execution_count": null,
      "outputs": []
    },
    {
      "cell_type": "code",
      "source": [
        "lista_colunas = list(dados2.drop(columns=['Target']).columns)\n",
        "\n",
        "formula_dummies_modelo = ' + '.join(lista_colunas)\n",
        "\n",
        "formula_dummies_modelo = \"Target ~ \" + formula_dummies_modelo\n",
        "\n",
        "print(\"Fórmula utilizada: \",formula_dummies_modelo)\n",
        "\n",
        "#Modelo propriamente dito\n",
        "modelo = sm.Logit.from_formula(formula_dummies_modelo,\n",
        "                                               dados2).fit()\n",
        "\n",
        "#Parâmetros do modelo\n",
        "modelo.summary()"
      ],
      "metadata": {
        "id": "bRE2PzxQxx46"
      },
      "execution_count": null,
      "outputs": []
    },
    {
      "cell_type": "code",
      "source": [
        "from sklearn.metrics import confusion_matrix, accuracy_score,\\\n",
        "    ConfusionMatrixDisplay, recall_score\n",
        "\n",
        "def matriz_confusao(predicts, observado, cutoff):\n",
        "\n",
        "    values = predicts.values\n",
        "\n",
        "    predicao_binaria = []\n",
        "\n",
        "    for item in values:\n",
        "        if item < cutoff:\n",
        "            predicao_binaria.append(0)\n",
        "        else:\n",
        "            predicao_binaria.append(1)\n",
        "\n",
        "    cm = confusion_matrix(predicao_binaria, observado)\n",
        "    disp = ConfusionMatrixDisplay(confusion_matrix=cm)\n",
        "    disp.plot()\n",
        "    plt.xlabel('True')\n",
        "    plt.ylabel('Classified')\n",
        "    plt.gca().invert_xaxis()\n",
        "    plt.gca().invert_yaxis()\n",
        "    plt.show()\n",
        "\n",
        "    sensitividade = recall_score(observado, predicao_binaria, pos_label=1)\n",
        "    especificidade = recall_score(observado, predicao_binaria, pos_label=0)\n",
        "    acuracia = accuracy_score(observado, predicao_binaria)\n",
        "\n",
        "    #Visualizando os principais indicadores desta matriz de confusão\n",
        "    indicadores = pd.DataFrame({'Sensitividade':[sensitividade],\n",
        "                                'Especificidade':[especificidade],\n",
        "                                'Acurácia':[acuracia]})\n",
        "    return indicadores"
      ],
      "metadata": {
        "id": "QKuP6-iqx_NZ"
      },
      "execution_count": null,
      "outputs": []
    },
    {
      "cell_type": "code",
      "source": [
        "# Adicionando os valores previstos de probabilidade na base de dados\n",
        "dados['phat'] = modelo.predict()\n",
        "\n",
        "#Matriz de confusão para cutoff = 0.5\n",
        "matriz_confusao(observado=dados['Target'],\n",
        "                predicts=dados['phat'],\n",
        "                cutoff=0.50)"
      ],
      "metadata": {
        "id": "h3fqn815x7RB"
      },
      "execution_count": null,
      "outputs": []
    },
    {
      "cell_type": "code",
      "source": [
        "def espec_sens(observado,predicts):\n",
        "\n",
        "    # adicionar objeto com os valores dos predicts\n",
        "    values = predicts.values\n",
        "\n",
        "    # range dos cutoffs a serem analisados em steps de 0.01\n",
        "    cutoffs = np.arange(0,1.01,0.01)\n",
        "\n",
        "    # Listas que receberão os resultados de especificidade e sensitividade\n",
        "    lista_sensitividade = []\n",
        "    lista_especificidade = []\n",
        "\n",
        "    for cutoff in cutoffs:\n",
        "\n",
        "        predicao_binaria = []\n",
        "\n",
        "        # Definindo resultado binário de acordo com o predict\n",
        "        for item in values:\n",
        "            if item >= cutoff:\n",
        "                predicao_binaria.append(1)\n",
        "            else:\n",
        "                predicao_binaria.append(0)\n",
        "\n",
        "        # Cálculo da sensitividade e especificidade no cutoff\n",
        "        sensitividade = recall_score(observado, predicao_binaria, pos_label=1)\n",
        "        especificidadee = recall_score(observado, predicao_binaria, pos_label=0)\n",
        "\n",
        "        # Adicionar valores nas listas\n",
        "        lista_sensitividade.append(sensitividade)\n",
        "        lista_especificidade.append(especificidadee)\n",
        "\n",
        "    # Criar dataframe com os resultados nos seus respectivos cutoffs\n",
        "    resultado = pd.DataFrame({'cutoffs':cutoffs,'sensitividade':lista_sensitividade,'especificidade':lista_especificidade})\n",
        "    return resultado"
      ],
      "metadata": {
        "id": "IyW6B1M_yEBU"
      },
      "execution_count": null,
      "outputs": []
    },
    {
      "cell_type": "code",
      "source": [
        "dados_plotagem = espec_sens(observado = dados['Target'],\n",
        "                            predicts = dados['phat'])\n",
        "dados_plotagem"
      ],
      "metadata": {
        "id": "XiJyFQPDyK2q"
      },
      "execution_count": null,
      "outputs": []
    },
    {
      "cell_type": "code",
      "source": [
        "def espec_sens(observado,predicts):\n",
        "\n",
        "    # adicionar objeto com os valores dos predicts\n",
        "    values = predicts.values\n",
        "\n",
        "    # range dos cutoffs a serem analisados em steps de 0.01\n",
        "    cutoffs = np.arange(0,1.01,0.01)\n",
        "\n",
        "    # Listas que receberão os resultados de especificidade e sensitividade\n",
        "    lista_sensitividade = []\n",
        "    lista_especificidade = []\n",
        "\n",
        "    for cutoff in cutoffs:\n",
        "\n",
        "        predicao_binaria = []\n",
        "\n",
        "        # Definindo resultado binário de acordo com o predict\n",
        "        for item in values:\n",
        "            if item >= cutoff:\n",
        "                predicao_binaria.append(1)\n",
        "            else:\n",
        "                predicao_binaria.append(0)\n",
        "\n",
        "        # Cálculo da sensitividade e especificidade no cutoff\n",
        "        sensitividade = recall_score(observado, predicao_binaria, pos_label=1)\n",
        "        especificidadee = recall_score(observado, predicao_binaria, pos_label=0)\n",
        "\n",
        "        # Adicionar valores nas listas\n",
        "        lista_sensitividade.append(sensitividade)\n",
        "        lista_especificidade.append(especificidadee)\n",
        "\n",
        "    # Criar dataframe com os resultados nos seus respectivos cutoffs\n",
        "    resultado = pd.DataFrame({'cutoffs':cutoffs,'sensitividade':lista_sensitividade,'especificidade':lista_especificidade})\n",
        "    return resultado"
      ],
      "metadata": {
        "id": "2nBScGqYyO_x"
      },
      "execution_count": null,
      "outputs": []
    },
    {
      "cell_type": "code",
      "source": [
        "plt.figure(figsize=(10,10))\n",
        "plt.plot(dados_plotagem.cutoffs,dados_plotagem.sensitividade, '-o',\n",
        "         color='indigo')\n",
        "plt.plot(dados_plotagem.cutoffs,dados_plotagem.especificidade, '-o',\n",
        "         color='limegreen')\n",
        "plt.legend(['Sensitividade', 'Especificidade'], fontsize=17)\n",
        "plt.xlabel('Cuttoff', fontsize=14)\n",
        "plt.ylabel('Sensitividade / Especificidade', fontsize=14)\n",
        "plt.show()"
      ],
      "metadata": {
        "id": "obBcHCqtyQKO"
      },
      "execution_count": null,
      "outputs": []
    },
    {
      "cell_type": "code",
      "source": [
        "from sklearn.metrics import roc_curve, auc\n",
        "\n",
        "#Função 'roc_curve' do pacote 'metrics' do sklearn\n",
        "\n",
        "fpr, tpr, thresholds =roc_curve(dados['Target'],\n",
        "                                dados['phat'])\n",
        "roc_auc = auc(fpr, tpr)\n",
        "\n",
        "#Cálculo do coeficiente de GINI\n",
        "gini = (roc_auc - 0.5)/(0.5)\n",
        "\n",
        "#Plotando a curva ROC\n",
        "plt.figure(figsize=(10,10))\n",
        "plt.plot(fpr,tpr, '-o', color='red')\n",
        "plt.plot(fpr,fpr, ':', color='gray')\n",
        "plt.title('Área abaixo da curva: %g' % round(roc_auc,4) +\n",
        "          ' | Coeficiente de GINI: %g' % round(gini,4), fontsize=17)\n",
        "plt.xlabel('1 - Especificidade', fontsize=15)\n",
        "plt.ylabel('Sensitividade', fontsize=15)\n",
        "plt.show()"
      ],
      "metadata": {
        "id": "g_RrVCouyYiW"
      },
      "execution_count": null,
      "outputs": []
    }
  ]
}